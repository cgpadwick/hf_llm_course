{
 "cells": [
  {
   "cell_type": "code",
   "execution_count": 4,
   "id": "5f85f8d7-18e8-430a-ac2c-dbb6fd2f6a8c",
   "metadata": {},
   "outputs": [],
   "source": [
    "from datasets import load_dataset\n",
    "from transformers import AutoTokenizer, DataCollatorWithPadding\n",
    "from transformers import AutoModelForSequenceClassification\n",
    "\n",
    "raw_datasets = load_dataset(\"glue\", \"mrpc\", cache_dir='./cache')"
   ]
  },
  {
   "cell_type": "code",
   "execution_count": 5,
   "id": "6113b528-5a71-47ef-bbc8-24955d550f2f",
   "metadata": {},
   "outputs": [
    {
     "name": "stderr",
     "output_type": "stream",
     "text": [
      "Some weights of BertForSequenceClassification were not initialized from the model checkpoint at bert-base-uncased and are newly initialized: ['classifier.bias', 'classifier.weight']\n",
      "You should probably TRAIN this model on a down-stream task to be able to use it for predictions and inference.\n"
     ]
    },
    {
     "data": {
      "application/vnd.jupyter.widget-view+json": {
       "model_id": "d1c8e86e34f9482c8ef7d7f36f08eef9",
       "version_major": 2,
       "version_minor": 0
      },
      "text/plain": [
       "Map:   0%|          | 0/408 [00:00<?, ? examples/s]"
      ]
     },
     "metadata": {},
     "output_type": "display_data"
    }
   ],
   "source": [
    "checkpoint = \"bert-base-uncased\"\n",
    "tokenizer = AutoTokenizer.from_pretrained(checkpoint)\n",
    "model = AutoModelForSequenceClassification.from_pretrained(checkpoint, num_labels=2)\n",
    "\n",
    "def tokenize_function(example):\n",
    "    return tokenizer(example[\"sentence1\"], example[\"sentence2\"], truncation=True)\n",
    "\n",
    "\n",
    "tokenized_datasets = raw_datasets.map(tokenize_function, batched=True)\n",
    "data_collator = DataCollatorWithPadding(tokenizer=tokenizer)"
   ]
  },
  {
   "cell_type": "code",
   "execution_count": 14,
   "id": "4aa05deb-49ca-4d3d-afc0-4f9893527652",
   "metadata": {},
   "outputs": [],
   "source": [
    "import evaluate\n",
    "import numpy as np\n",
    "\n",
    "def compute_metrics(eval_preds):\n",
    "    metric = evaluate.load(\"glue\", \"mrpc\")\n",
    "    logits, labels = eval_preds\n",
    "    predictions = np.argmax(logits, axis=-1)\n",
    "    return metric.compute(predictions=predictions, references=labels)"
   ]
  },
  {
   "cell_type": "markdown",
   "id": "190115d5-3159-414a-870d-744a6c1e3ff1",
   "metadata": {},
   "source": [
    "using trackio here instead of wandb, because trackio is local and we don't need an account"
   ]
  },
  {
   "cell_type": "code",
   "execution_count": 15,
   "id": "5ae6bd77-b9ae-443a-bc73-80b87a2fe462",
   "metadata": {},
   "outputs": [
    {
     "name": "stdout",
     "output_type": "stream",
     "text": [
      "* Trackio project initialized: transformer-fine-tuning\n",
      "* Trackio metrics logged to: /home/cpadwick/.cache/huggingface/trackio\n"
     ]
    },
    {
     "data": {
      "text/html": [
       "<div><iframe src=\"http://127.0.0.1:7860/?project=transformer-fine-tuning&write_token=kNwRXvjcVn4Vy5dxdna5vmA8SGKYX_rk7TdFhXtAy34\" width=\"100%\" height=\"1000px\" allow=\"autoplay; camera; microphone; clipboard-read; clipboard-write;\" frameborder=\"0\" allowfullscreen></iframe></div>"
      ],
      "text/plain": [
       "<IPython.core.display.HTML object>"
      ]
     },
     "metadata": {},
     "output_type": "display_data"
    },
    {
     "name": "stdout",
     "output_type": "stream",
     "text": [
      "* Created new run: bert-mrpc-analysis\n",
      "* Trackio project initialized: huggingface\n",
      "* Trackio metrics will be synced to Hugging Face Dataset: cgpadwick2020/trackio-dataset\n",
      "* Found existing space: https://huggingface.co/spaces/cgpadwick2020/trackio\n",
      "* View dashboard by going to: https://cgpadwick2020-trackio.hf.space/\n"
     ]
    },
    {
     "data": {
      "text/html": [
       "<div><iframe src=\"https://cgpadwick2020-trackio.hf.space/\" width=\"100%\" height=\"1000px\" allow=\"autoplay; camera; microphone; clipboard-read; clipboard-write;\" frameborder=\"0\" allowfullscreen></iframe></div>"
      ],
      "text/plain": [
       "<IPython.core.display.HTML object>"
      ]
     },
     "metadata": {},
     "output_type": "display_data"
    },
    {
     "name": "stdout",
     "output_type": "stream",
     "text": [
      "* Created new run: cgpadwick2020-1761876321\n"
     ]
    },
    {
     "data": {
      "text/html": [
       "\n",
       "    <div>\n",
       "      \n",
       "      <progress value='1150' max='1150' style='width:300px; height:20px; vertical-align: middle;'></progress>\n",
       "      [1150/1150 02:19, Epoch 5/5]\n",
       "    </div>\n",
       "    <table border=\"1\" class=\"dataframe\">\n",
       "  <thead>\n",
       " <tr style=\"text-align: left;\">\n",
       "      <th>Epoch</th>\n",
       "      <th>Training Loss</th>\n",
       "      <th>Validation Loss</th>\n",
       "      <th>Accuracy</th>\n",
       "      <th>F1</th>\n",
       "    </tr>\n",
       "  </thead>\n",
       "  <tbody>\n",
       "    <tr>\n",
       "      <td>1</td>\n",
       "      <td>0.149400</td>\n",
       "      <td>0.956016</td>\n",
       "      <td>0.808824</td>\n",
       "      <td>0.855019</td>\n",
       "    </tr>\n",
       "    <tr>\n",
       "      <td>2</td>\n",
       "      <td>0.128100</td>\n",
       "      <td>0.568662</td>\n",
       "      <td>0.845588</td>\n",
       "      <td>0.888496</td>\n",
       "    </tr>\n",
       "    <tr>\n",
       "      <td>3</td>\n",
       "      <td>0.098700</td>\n",
       "      <td>0.915307</td>\n",
       "      <td>0.818627</td>\n",
       "      <td>0.871972</td>\n",
       "    </tr>\n",
       "    <tr>\n",
       "      <td>4</td>\n",
       "      <td>0.000400</td>\n",
       "      <td>1.028838</td>\n",
       "      <td>0.833333</td>\n",
       "      <td>0.883562</td>\n",
       "    </tr>\n",
       "    <tr>\n",
       "      <td>5</td>\n",
       "      <td>0.072800</td>\n",
       "      <td>1.057960</td>\n",
       "      <td>0.838235</td>\n",
       "      <td>0.886986</td>\n",
       "    </tr>\n",
       "  </tbody>\n",
       "</table><p>"
      ],
      "text/plain": [
       "<IPython.core.display.HTML object>"
      ]
     },
     "metadata": {},
     "output_type": "display_data"
    },
    {
     "name": "stdout",
     "output_type": "stream",
     "text": [
      "* Run finished. Uploading logs to Trackio (please wait...)\n"
     ]
    },
    {
     "data": {
      "text/plain": [
       "TrainOutput(global_step=1150, training_loss=0.0701496794850201, metrics={'train_runtime': 139.3584, 'train_samples_per_second': 131.603, 'train_steps_per_second': 8.252, 'total_flos': 714950848507680.0, 'train_loss': 0.0701496794850201, 'epoch': 5.0})"
      ]
     },
     "execution_count": 15,
     "metadata": {},
     "output_type": "execute_result"
    }
   ],
   "source": [
    "# Example of tracking loss during training with the Trainer\n",
    "from transformers import Trainer, TrainingArguments\n",
    "import trackio as wandb\n",
    "\n",
    "\n",
    "# Initialize Weights & Biases for experiment tracking\n",
    "wandb.init(project=\"transformer-fine-tuning\", name=\"bert-mrpc-analysis\")\n",
    "\n",
    "training_args = TrainingArguments(\n",
    "    output_dir=\"./results\",\n",
    "    eval_strategy=\"epoch\",\n",
    "    eval_steps=50,\n",
    "    save_steps=100,\n",
    "    logging_steps=10,  # Log metrics every 10 steps\n",
    "    num_train_epochs=5,\n",
    "    per_device_train_batch_size=16,\n",
    "    per_device_eval_batch_size=16,\n",
    "    report_to=\"trackio\",  # Send logs to trackio\n",
    ")\n",
    "\n",
    "trainer = Trainer(\n",
    "    model=model,\n",
    "    args=training_args,\n",
    "    train_dataset=tokenized_datasets[\"train\"],\n",
    "    eval_dataset=tokenized_datasets[\"validation\"],\n",
    "    data_collator=data_collator,\n",
    "    processing_class=tokenizer,\n",
    "    compute_metrics=compute_metrics,\n",
    ")\n",
    "\n",
    "# Train and automatically log metrics\n",
    "trainer.train()"
   ]
  },
  {
   "cell_type": "code",
   "execution_count": 16,
   "id": "4e84a0d9-f3f6-4b98-b08c-c885c6807858",
   "metadata": {},
   "outputs": [
    {
     "name": "stdout",
     "output_type": "stream",
     "text": [
      "* Trackio project initialized: huggingface\n",
      "* Trackio metrics will be synced to Hugging Face Dataset: cgpadwick2020/trackio-dataset\n",
      "* Found existing space: https://huggingface.co/spaces/cgpadwick2020/trackio\n",
      "* View dashboard by going to: https://cgpadwick2020-trackio.hf.space/\n"
     ]
    },
    {
     "data": {
      "text/html": [
       "<div><iframe src=\"https://cgpadwick2020-trackio.hf.space/\" width=\"100%\" height=\"1000px\" allow=\"autoplay; camera; microphone; clipboard-read; clipboard-write;\" frameborder=\"0\" allowfullscreen></iframe></div>"
      ],
      "text/plain": [
       "<IPython.core.display.HTML object>"
      ]
     },
     "metadata": {},
     "output_type": "display_data"
    },
    {
     "name": "stdout",
     "output_type": "stream",
     "text": [
      "* Created new run: cgpadwick2020-1761876635\n"
     ]
    },
    {
     "data": {
      "text/html": [
       "\n",
       "    <div>\n",
       "      \n",
       "      <progress value='300' max='2300' style='width:300px; height:20px; vertical-align: middle;'></progress>\n",
       "      [ 300/2300 00:51 < 05:47, 5.75 it/s, Epoch 1/10]\n",
       "    </div>\n",
       "    <table border=\"1\" class=\"dataframe\">\n",
       "  <thead>\n",
       " <tr style=\"text-align: left;\">\n",
       "      <th>Step</th>\n",
       "      <th>Training Loss</th>\n",
       "      <th>Validation Loss</th>\n",
       "      <th>Accuracy</th>\n",
       "      <th>F1</th>\n",
       "    </tr>\n",
       "  </thead>\n",
       "  <tbody>\n",
       "    <tr>\n",
       "      <td>50</td>\n",
       "      <td>0.000100</td>\n",
       "      <td>1.332098</td>\n",
       "      <td>0.830882</td>\n",
       "      <td>0.879159</td>\n",
       "    </tr>\n",
       "    <tr>\n",
       "      <td>100</td>\n",
       "      <td>0.061600</td>\n",
       "      <td>1.355341</td>\n",
       "      <td>0.801471</td>\n",
       "      <td>0.858639</td>\n",
       "    </tr>\n",
       "    <tr>\n",
       "      <td>150</td>\n",
       "      <td>0.018600</td>\n",
       "      <td>1.046736</td>\n",
       "      <td>0.833333</td>\n",
       "      <td>0.881944</td>\n",
       "    </tr>\n",
       "    <tr>\n",
       "      <td>200</td>\n",
       "      <td>0.000400</td>\n",
       "      <td>1.182334</td>\n",
       "      <td>0.835784</td>\n",
       "      <td>0.886248</td>\n",
       "    </tr>\n",
       "    <tr>\n",
       "      <td>250</td>\n",
       "      <td>0.124700</td>\n",
       "      <td>1.433932</td>\n",
       "      <td>0.808824</td>\n",
       "      <td>0.873377</td>\n",
       "    </tr>\n",
       "    <tr>\n",
       "      <td>300</td>\n",
       "      <td>0.110000</td>\n",
       "      <td>1.443094</td>\n",
       "      <td>0.818627</td>\n",
       "      <td>0.879085</td>\n",
       "    </tr>\n",
       "  </tbody>\n",
       "</table><p>"
      ],
      "text/plain": [
       "<IPython.core.display.HTML object>"
      ]
     },
     "metadata": {},
     "output_type": "display_data"
    },
    {
     "name": "stdout",
     "output_type": "stream",
     "text": [
      "* Run finished. Uploading logs to Trackio (please wait...)\n"
     ]
    },
    {
     "data": {
      "text/plain": [
       "TrainOutput(global_step=300, training_loss=0.04643597889119216, metrics={'train_runtime': 51.5522, 'train_samples_per_second': 711.512, 'train_steps_per_second': 44.615, 'total_flos': 186397738281600.0, 'train_loss': 0.04643597889119216, 'epoch': 1.3043478260869565})"
      ]
     },
     "execution_count": 16,
     "metadata": {},
     "output_type": "execute_result"
    }
   ],
   "source": [
    "from transformers import EarlyStoppingCallback\n",
    "\n",
    "\n",
    "training_args = TrainingArguments(\n",
    "    output_dir=\"./results\",\n",
    "    eval_strategy=\"steps\",\n",
    "    eval_steps=50,\n",
    "    save_steps=100,\n",
    "    logging_steps=10,  # Log metrics every 10 steps\n",
    "    num_train_epochs=10,\n",
    "    per_device_train_batch_size=16,\n",
    "    per_device_eval_batch_size=16,\n",
    "    load_best_model_at_end=True,\n",
    "    metric_for_best_model=\"eval_loss\",\n",
    "    greater_is_better=False,\n",
    "    report_to=\"trackio\",  # Send logs to trackio\n",
    ")\n",
    "\n",
    "trainer = Trainer(\n",
    "    model=model,\n",
    "    args=training_args,\n",
    "    train_dataset=tokenized_datasets[\"train\"],\n",
    "    eval_dataset=tokenized_datasets[\"validation\"],\n",
    "    data_collator=data_collator,\n",
    "    processing_class=tokenizer,\n",
    "    compute_metrics=compute_metrics,\n",
    "    callbacks=[EarlyStoppingCallback(early_stopping_patience=3)],\n",
    ")\n",
    "\n",
    "# Train and automatically log metrics\n",
    "trainer.train()"
   ]
  },
  {
   "cell_type": "code",
   "execution_count": 18,
   "id": "b8eb0c33-3955-4b18-9b3c-849a42af6aad",
   "metadata": {},
   "outputs": [
    {
     "name": "stdout",
     "output_type": "stream",
     "text": [
      "* Trackio project initialized: huggingface\n",
      "* Trackio metrics will be synced to Hugging Face Dataset: cgpadwick2020/trackio-dataset\n",
      "* Found existing space: https://huggingface.co/spaces/cgpadwick2020/trackio\n",
      "* View dashboard by going to: https://cgpadwick2020-trackio.hf.space/\n"
     ]
    },
    {
     "data": {
      "text/html": [
       "<div><iframe src=\"https://cgpadwick2020-trackio.hf.space/\" width=\"100%\" height=\"1000px\" allow=\"autoplay; camera; microphone; clipboard-read; clipboard-write;\" frameborder=\"0\" allowfullscreen></iframe></div>"
      ],
      "text/plain": [
       "<IPython.core.display.HTML object>"
      ]
     },
     "metadata": {},
     "output_type": "display_data"
    },
    {
     "name": "stdout",
     "output_type": "stream",
     "text": [
      "* Created new run: cgpadwick2020-1761877033\n"
     ]
    },
    {
     "data": {
      "text/html": [
       "\n",
       "    <div>\n",
       "      \n",
       "      <progress value='1150' max='1150' style='width:300px; height:20px; vertical-align: middle;'></progress>\n",
       "      [1150/1150 04:04, Epoch 10/10]\n",
       "    </div>\n",
       "    <table border=\"1\" class=\"dataframe\">\n",
       "  <thead>\n",
       " <tr style=\"text-align: left;\">\n",
       "      <th>Step</th>\n",
       "      <th>Training Loss</th>\n",
       "      <th>Validation Loss</th>\n",
       "      <th>Accuracy</th>\n",
       "      <th>F1</th>\n",
       "    </tr>\n",
       "  </thead>\n",
       "  <tbody>\n",
       "    <tr>\n",
       "      <td>50</td>\n",
       "      <td>0.086800</td>\n",
       "      <td>0.909971</td>\n",
       "      <td>0.818627</td>\n",
       "      <td>0.870175</td>\n",
       "    </tr>\n",
       "    <tr>\n",
       "      <td>100</td>\n",
       "      <td>0.018100</td>\n",
       "      <td>1.148268</td>\n",
       "      <td>0.791667</td>\n",
       "      <td>0.845173</td>\n",
       "    </tr>\n",
       "    <tr>\n",
       "      <td>150</td>\n",
       "      <td>0.043800</td>\n",
       "      <td>1.068863</td>\n",
       "      <td>0.845588</td>\n",
       "      <td>0.889667</td>\n",
       "    </tr>\n",
       "    <tr>\n",
       "      <td>200</td>\n",
       "      <td>0.038300</td>\n",
       "      <td>0.776802</td>\n",
       "      <td>0.833333</td>\n",
       "      <td>0.886288</td>\n",
       "    </tr>\n",
       "    <tr>\n",
       "      <td>250</td>\n",
       "      <td>0.021400</td>\n",
       "      <td>1.194211</td>\n",
       "      <td>0.833333</td>\n",
       "      <td>0.885135</td>\n",
       "    </tr>\n",
       "    <tr>\n",
       "      <td>300</td>\n",
       "      <td>0.020100</td>\n",
       "      <td>1.088498</td>\n",
       "      <td>0.823529</td>\n",
       "      <td>0.870504</td>\n",
       "    </tr>\n",
       "    <tr>\n",
       "      <td>350</td>\n",
       "      <td>0.035000</td>\n",
       "      <td>1.234127</td>\n",
       "      <td>0.803922</td>\n",
       "      <td>0.858657</td>\n",
       "    </tr>\n",
       "    <tr>\n",
       "      <td>400</td>\n",
       "      <td>0.037300</td>\n",
       "      <td>1.296117</td>\n",
       "      <td>0.803922</td>\n",
       "      <td>0.855596</td>\n",
       "    </tr>\n",
       "    <tr>\n",
       "      <td>450</td>\n",
       "      <td>0.014000</td>\n",
       "      <td>1.020792</td>\n",
       "      <td>0.838235</td>\n",
       "      <td>0.885813</td>\n",
       "    </tr>\n",
       "    <tr>\n",
       "      <td>500</td>\n",
       "      <td>0.015500</td>\n",
       "      <td>1.070799</td>\n",
       "      <td>0.835784</td>\n",
       "      <td>0.884283</td>\n",
       "    </tr>\n",
       "    <tr>\n",
       "      <td>550</td>\n",
       "      <td>0.016800</td>\n",
       "      <td>1.262744</td>\n",
       "      <td>0.808824</td>\n",
       "      <td>0.868243</td>\n",
       "    </tr>\n",
       "    <tr>\n",
       "      <td>600</td>\n",
       "      <td>0.014800</td>\n",
       "      <td>1.170324</td>\n",
       "      <td>0.813725</td>\n",
       "      <td>0.873333</td>\n",
       "    </tr>\n",
       "    <tr>\n",
       "      <td>650</td>\n",
       "      <td>0.006400</td>\n",
       "      <td>1.406950</td>\n",
       "      <td>0.808824</td>\n",
       "      <td>0.869128</td>\n",
       "    </tr>\n",
       "    <tr>\n",
       "      <td>700</td>\n",
       "      <td>0.001600</td>\n",
       "      <td>1.155680</td>\n",
       "      <td>0.833333</td>\n",
       "      <td>0.881944</td>\n",
       "    </tr>\n",
       "    <tr>\n",
       "      <td>750</td>\n",
       "      <td>0.014000</td>\n",
       "      <td>1.147934</td>\n",
       "      <td>0.828431</td>\n",
       "      <td>0.880952</td>\n",
       "    </tr>\n",
       "    <tr>\n",
       "      <td>800</td>\n",
       "      <td>0.000700</td>\n",
       "      <td>1.214426</td>\n",
       "      <td>0.825980</td>\n",
       "      <td>0.871143</td>\n",
       "    </tr>\n",
       "    <tr>\n",
       "      <td>850</td>\n",
       "      <td>0.000400</td>\n",
       "      <td>1.337433</td>\n",
       "      <td>0.828431</td>\n",
       "      <td>0.877622</td>\n",
       "    </tr>\n",
       "    <tr>\n",
       "      <td>900</td>\n",
       "      <td>0.000400</td>\n",
       "      <td>1.295331</td>\n",
       "      <td>0.833333</td>\n",
       "      <td>0.880702</td>\n",
       "    </tr>\n",
       "    <tr>\n",
       "      <td>950</td>\n",
       "      <td>0.000100</td>\n",
       "      <td>1.413346</td>\n",
       "      <td>0.825980</td>\n",
       "      <td>0.879457</td>\n",
       "    </tr>\n",
       "    <tr>\n",
       "      <td>1000</td>\n",
       "      <td>0.000100</td>\n",
       "      <td>1.322848</td>\n",
       "      <td>0.835784</td>\n",
       "      <td>0.881834</td>\n",
       "    </tr>\n",
       "    <tr>\n",
       "      <td>1050</td>\n",
       "      <td>0.000100</td>\n",
       "      <td>1.387702</td>\n",
       "      <td>0.833333</td>\n",
       "      <td>0.881944</td>\n",
       "    </tr>\n",
       "    <tr>\n",
       "      <td>1100</td>\n",
       "      <td>0.000200</td>\n",
       "      <td>1.378947</td>\n",
       "      <td>0.833333</td>\n",
       "      <td>0.881944</td>\n",
       "    </tr>\n",
       "    <tr>\n",
       "      <td>1150</td>\n",
       "      <td>0.000100</td>\n",
       "      <td>1.390342</td>\n",
       "      <td>0.833333</td>\n",
       "      <td>0.881944</td>\n",
       "    </tr>\n",
       "  </tbody>\n",
       "</table><p>"
      ],
      "text/plain": [
       "<IPython.core.display.HTML object>"
      ]
     },
     "metadata": {},
     "output_type": "display_data"
    },
    {
     "name": "stderr",
     "output_type": "stream",
     "text": [
      "Exception in thread Thread-64 (_init_client_background):\n",
      "Traceback (most recent call last):\n",
      "  File \"/usr/lib/python3.12/threading.py\", line 1073, in _bootstrap_inner\n",
      "    self.run()\n",
      "  File \"/home/cpadwick/code/hf_course/.venv/lib/python3.12/site-packages/ipykernel/ipkernel.py\", line 788, in run_closure\n",
      "    _threading_Thread_run(self)\n",
      "  File \"/usr/lib/python3.12/threading.py\", line 1010, in run\n",
      "    self._target(*self._args, **self._kwargs)\n",
      "  File \"/home/cpadwick/code/hf_course/.venv/lib/python3.12/site-packages/trackio/run.py\", line 113, in _init_client_background\n",
      "    self._batch_sender()\n",
      "  File \"/home/cpadwick/code/hf_course/.venv/lib/python3.12/site-packages/trackio/run.py\", line 84, in _batch_sender\n",
      "    self._client.predict(\n",
      "  File \"/home/cpadwick/code/hf_course/.venv/lib/python3.12/site-packages/gradio_client/client.py\", line 505, in predict\n",
      "    ).result()\n",
      "      ^^^^^^^^\n",
      "  File \"/home/cpadwick/code/hf_course/.venv/lib/python3.12/site-packages/gradio_client/client.py\", line 1610, in result\n",
      "    return super().result(timeout=timeout)\n",
      "           ^^^^^^^^^^^^^^^^^^^^^^^^^^^^^^^\n",
      "  File \"/usr/lib/python3.12/concurrent/futures/_base.py\", line 456, in result\n",
      "    return self.__get_result()\n",
      "           ^^^^^^^^^^^^^^^^^^^\n",
      "  File \"/usr/lib/python3.12/concurrent/futures/_base.py\", line 401, in __get_result\n",
      "    raise self._exception\n",
      "  File \"/usr/lib/python3.12/concurrent/futures/thread.py\", line 58, in run\n",
      "    result = self.fn(*self.args, **self.kwargs)\n",
      "             ^^^^^^^^^^^^^^^^^^^^^^^^^^^^^^^^^^\n",
      "  File \"/home/cpadwick/code/hf_course/.venv/lib/python3.12/site-packages/gradio_client/client.py\", line 1214, in _inner\n",
      "    predictions = _predict(*data, **kwargs)\n",
      "                  ^^^^^^^^^^^^^^^^^^^^^^^^^\n",
      "  File \"/home/cpadwick/code/hf_course/.venv/lib/python3.12/site-packages/gradio_client/client.py\", line 1316, in _predict\n",
      "    event_id = self.client.send_data(\n",
      "               ^^^^^^^^^^^^^^^^^^^^^^\n",
      "  File \"/home/cpadwick/code/hf_course/.venv/lib/python3.12/site-packages/gradio_client/client.py\", line 332, in send_data\n",
      "    req.raise_for_status()\n",
      "  File \"/home/cpadwick/code/hf_course/.venv/lib/python3.12/site-packages/httpx/_models.py\", line 829, in raise_for_status\n",
      "    raise HTTPStatusError(message, request=request, response=self)\n",
      "httpx.HTTPStatusError: Client error '429 Too Many Requests' for url 'https://cgpadwick2020-trackio.hf.space/gradio_api/queue/join'\n",
      "For more information check: https://developer.mozilla.org/en-US/docs/Web/HTTP/Status/429\n"
     ]
    },
    {
     "name": "stdout",
     "output_type": "stream",
     "text": [
      "* Run finished. Uploading logs to Trackio (please wait...)\n"
     ]
    },
    {
     "data": {
      "text/plain": [
       "TrainOutput(global_step=1150, training_loss=0.027414699421092138, metrics={'train_runtime': 244.4884, 'train_samples_per_second': 150.028, 'train_steps_per_second': 4.704, 'total_flos': 1506078514207440.0, 'train_loss': 0.027414699421092138, 'epoch': 10.0})"
      ]
     },
     "execution_count": 18,
     "metadata": {},
     "output_type": "execute_result"
    }
   ],
   "source": [
    "from transformers import EarlyStoppingCallback\n",
    "\n",
    "\n",
    "training_args = TrainingArguments(\n",
    "    output_dir=\"./results\",\n",
    "    eval_strategy=\"steps\",\n",
    "    eval_steps=50,\n",
    "    save_steps=100,\n",
    "    logging_steps=10,  # Log metrics every 10 steps\n",
    "    num_train_epochs=10,\n",
    "    per_device_train_batch_size=32,\n",
    "    per_device_eval_batch_size=16,\n",
    "    load_best_model_at_end=True,\n",
    "    metric_for_best_model=\"eval_loss\",\n",
    "    greater_is_better=False,\n",
    "    learning_rate=1e-4,\n",
    "    report_to=\"trackio\",  # Send logs to trackio\n",
    ")\n",
    "\n",
    "trainer = Trainer(\n",
    "    model=model,\n",
    "    args=training_args,\n",
    "    train_dataset=tokenized_datasets[\"train\"],\n",
    "    eval_dataset=tokenized_datasets[\"validation\"],\n",
    "    data_collator=data_collator,\n",
    "    processing_class=tokenizer,\n",
    "    compute_metrics=compute_metrics,\n",
    ")\n",
    "\n",
    "# Train and automatically log metrics\n",
    "trainer.train()"
   ]
  },
  {
   "cell_type": "code",
   "execution_count": null,
   "id": "c327ef53-5e46-417f-8667-fbed9cd859c2",
   "metadata": {},
   "outputs": [],
   "source": []
  }
 ],
 "metadata": {
  "kernelspec": {
   "display_name": "Python 3 (ipykernel)",
   "language": "python",
   "name": "python3"
  },
  "language_info": {
   "codemirror_mode": {
    "name": "ipython",
    "version": 3
   },
   "file_extension": ".py",
   "mimetype": "text/x-python",
   "name": "python",
   "nbconvert_exporter": "python",
   "pygments_lexer": "ipython3",
   "version": "3.12.3"
  }
 },
 "nbformat": 4,
 "nbformat_minor": 5
}
